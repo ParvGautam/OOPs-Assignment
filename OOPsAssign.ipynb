{
 "cells": [
  {
   "cell_type": "code",
   "execution_count": 16,
   "id": "bf13f221-65d8-491d-a1d2-dd76acdb19be",
   "metadata": {},
   "outputs": [],
   "source": [
    "#Answer 1\n",
    "class vehicle:\n",
    "    def __init__(self,name_of_vehicle,max_speed,average_of_vehicle):\n",
    "        self.name_of_vehicle=name_of_vehicle\n",
    "        self.max_speed=max_speed\n",
    "        self.average_of_vehicle=average_of_vehicle\n",
    "        \n",
    "obj_vehicle=vehicle(\"HONDA\",5,25)"
   ]
  },
  {
   "cell_type": "code",
   "execution_count": 29,
   "id": "f169a81c-343c-4d42-98d6-5c7a1bc5883d",
   "metadata": {},
   "outputs": [],
   "source": [
    "class car(vehicle):\n",
    "    def seating_capacity(self,capacity):\n",
    "        return {self.name_of_vehicle} and {capacity}"
   ]
  },
  {
   "cell_type": "code",
   "execution_count": 35,
   "id": "ad756a5c-23c0-44d2-a31e-4ddc6493adbf",
   "metadata": {},
   "outputs": [
    {
     "data": {
      "text/plain": [
       "'HONDA'"
      ]
     },
     "execution_count": 35,
     "metadata": {},
     "output_type": "execute_result"
    }
   ],
   "source": [
    "obj_car.name_of_vehicle\n"
   ]
  },
  {
   "cell_type": "code",
   "execution_count": 3,
   "id": "7ce1127b-5ce3-4b24-9410-7b19af7553bd",
   "metadata": {},
   "outputs": [],
   "source": [
    "#Answer 3\n",
    "\"\"\"If a child class is inheriting the properties of a single other class, we call it single inheritance. However, if\n",
    "a child class inherits from more than one class, i.e. this child class is derived from multiple classes, we call \n",
    "it multiple inheritance in Python.\"\"\""
   ]
  },
  {
   "cell_type": "code",
   "execution_count": 4,
   "id": "aaae4d5e-c0cc-4fd3-9f81-c74123b6e824",
   "metadata": {},
   "outputs": [],
   "source": [
    "class class1:\n",
    "    def testclass1(self):\n",
    "        return \"class1\""
   ]
  },
  {
   "cell_type": "code",
   "execution_count": 5,
   "id": "2eb53035-6a92-49c2-b248-549ee15ab969",
   "metadata": {},
   "outputs": [],
   "source": [
    "class class2(class1):\n",
    "    def testclass2(self):\n",
    "        return \"class2\""
   ]
  },
  {
   "cell_type": "code",
   "execution_count": 6,
   "id": "92ec1bdf-2e25-4b14-9688-3ce9e7ce3dce",
   "metadata": {},
   "outputs": [],
   "source": [
    "class class3(class2):\n",
    "    def testclass3(self):\n",
    "        pass"
   ]
  },
  {
   "cell_type": "code",
   "execution_count": 8,
   "id": "d69ed335-0034-431b-821f-5132c43c25c7",
   "metadata": {},
   "outputs": [
    {
     "data": {
      "text/plain": [
       "'class1'"
      ]
     },
     "execution_count": 8,
     "metadata": {},
     "output_type": "execute_result"
    }
   ],
   "source": [
    "obj_class3=class3()\n",
    "obj_class3.testclass1()"
   ]
  },
  {
   "cell_type": "code",
   "execution_count": null,
   "id": "01c38c3b-0b8d-4082-9f8d-1a0f1cea7a34",
   "metadata": {},
   "outputs": [],
   "source": [
    "#Answer 4\n",
    "\"\"\" the main purpose of using getters and setters in object-oriented programs is to ensure data encapsulation. \n",
    "Private variables in python are not actually hidden fields like in other object oriented languages.\"\"\""
   ]
  },
  {
   "cell_type": "code",
   "execution_count": 10,
   "id": "0b042155-77ab-4a95-8f0b-05021c1e2f48",
   "metadata": {},
   "outputs": [
    {
     "name": "stdout",
     "output_type": "stream",
     "text": [
      "21\n",
      "21\n"
     ]
    }
   ],
   "source": [
    "# Python program showing a use\n",
    "# of get() and set() method in\n",
    "# normal function\n",
    "  \n",
    "class Geek:\n",
    "    def __init__(self, age = 0):\n",
    "         self._age = age\n",
    "      \n",
    "    # getter method\n",
    "    def get_age(self):\n",
    "        return self._age\n",
    "      \n",
    "    # setter method\n",
    "    def set_age(self, x):\n",
    "        self._age = x\n",
    "  \n",
    "raj = Geek()\n",
    "  \n",
    "# setting the age using setter\n",
    "raj.set_age(21)\n",
    "  \n",
    "# retrieving age using getter\n",
    "print(raj.get_age())\n",
    "  \n",
    "print(raj._age)"
   ]
  },
  {
   "cell_type": "code",
   "execution_count": null,
   "id": "7e73fe76-8a27-4185-8767-445559392126",
   "metadata": {},
   "outputs": [],
   "source": [
    "#Answer5\n",
    "\"\"\"Method overriding is a feature of object-oriented programming languages where the subclass or child class can\n",
    "provide the program with specific characteristics or a specific implementation process of data provided that are\n",
    "already defined in the parent class or superclass.\"\"\""
   ]
  },
  {
   "cell_type": "code",
   "execution_count": 12,
   "id": "e4df3cd0-bd7b-431b-8fb8-fb040e4ce834",
   "metadata": {},
   "outputs": [
    {
     "name": "stdout",
     "output_type": "stream",
     "text": [
      "Inside Parent\n",
      "Inside Child\n"
     ]
    }
   ],
   "source": [
    "class Parent():\n",
    "      \n",
    "    \n",
    "    def __init__(self):\n",
    "        self.value = \"Inside Parent\"\n",
    "          \n",
    " \n",
    "    def show(self):\n",
    "        print(self.value)\n",
    "          \n",
    "\n",
    "class Child(Parent):\n",
    "      \n",
    "    # Constructor\n",
    "    def __init__(self):\n",
    "        self.value = \"Inside Child\"\n",
    "          \n",
    " \n",
    "    def show(self):\n",
    "        print(self.value)\n",
    "          \n",
    "          \n",
    "\n",
    "obj1 = Parent()\n",
    "obj2 = Child()\n",
    "  \n",
    "obj1.show()\n",
    "obj2.show()"
   ]
  },
  {
   "cell_type": "code",
   "execution_count": null,
   "id": "86ce77e6-3ba1-4236-b2c8-261ed0031949",
   "metadata": {},
   "outputs": [],
   "source": []
  }
 ],
 "metadata": {
  "kernelspec": {
   "display_name": "Python 3 (ipykernel)",
   "language": "python",
   "name": "python3"
  },
  "language_info": {
   "codemirror_mode": {
    "name": "ipython",
    "version": 3
   },
   "file_extension": ".py",
   "mimetype": "text/x-python",
   "name": "python",
   "nbconvert_exporter": "python",
   "pygments_lexer": "ipython3",
   "version": "3.10.8"
  }
 },
 "nbformat": 4,
 "nbformat_minor": 5
}
